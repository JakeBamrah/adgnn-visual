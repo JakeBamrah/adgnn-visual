{
 "cells": [
  {
   "cell_type": "markdown",
   "id": "speaking-cemetery",
   "metadata": {},
   "source": [
    "# Modelling data\n",
    "\n",
    "- Select features for training and testing model\n",
    "- Normalize values on a *per-column* basis* [0-1]\n",
    "\n",
    "*Do features need to be dimensionally reduced?*"
   ]
  },
  {
   "cell_type": "code",
   "execution_count": 27,
   "id": "valid-psychiatry",
   "metadata": {},
   "outputs": [],
   "source": [
    "import numpy as np\n",
    "import pandas as pd\n",
    "\n",
    "import os\n",
    "import pickle"
   ]
  },
  {
   "cell_type": "code",
   "execution_count": 28,
   "id": "medium-beads",
   "metadata": {},
   "outputs": [],
   "source": [
    "df = pd.read_csv('working/combined.csv')"
   ]
  },
  {
   "cell_type": "markdown",
   "id": "likely-lucas",
   "metadata": {},
   "source": [
    "### Re-order columns\n",
    "\n",
    "Separate columns into risk factors, cognitive and mri features"
   ]
  },
  {
   "cell_type": "code",
   "execution_count": 29,
   "id": "cubic-psychology",
   "metadata": {},
   "outputs": [
    {
     "data": {
      "text/plain": [
       "(564, 197)"
      ]
     },
     "execution_count": 29,
     "metadata": {},
     "output_type": "execute_result"
    }
   ],
   "source": [
    "df.shape"
   ]
  },
  {
   "cell_type": "code",
   "execution_count": 30,
   "id": "eight-point",
   "metadata": {},
   "outputs": [],
   "source": [
    "# reorder columns\n",
    "cols = df.columns.to_list()\n",
    "\n",
    "mri_cols = cols[1:178]\n",
    "rest_cols = cols[178:]\n",
    "risk_cols = [\n",
    "    'RID', 'AGE', 'PTGENDER',\n",
    "    'PTEDUCAT', 'MOTHDEM', 'FATHDEM'\n",
    "]\n",
    "cognitive_cols = [c for c in rest_cols if c not in risk_cols]"
   ]
  },
  {
   "cell_type": "code",
   "execution_count": 31,
   "id": "greater-harris",
   "metadata": {},
   "outputs": [],
   "source": [
    "cols = risk_cols + cognitive_cols + mri_cols\n",
    "df = df.reindex(columns=cols)"
   ]
  },
  {
   "cell_type": "code",
   "execution_count": 32,
   "id": "undefined-azerbaijan",
   "metadata": {},
   "outputs": [
    {
     "data": {
      "text/html": [
       "<div>\n",
       "<style scoped>\n",
       "    .dataframe tbody tr th:only-of-type {\n",
       "        vertical-align: middle;\n",
       "    }\n",
       "\n",
       "    .dataframe tbody tr th {\n",
       "        vertical-align: top;\n",
       "    }\n",
       "\n",
       "    .dataframe thead th {\n",
       "        text-align: right;\n",
       "    }\n",
       "</style>\n",
       "<table border=\"1\" class=\"dataframe\">\n",
       "  <thead>\n",
       "    <tr style=\"text-align: right;\">\n",
       "      <th></th>\n",
       "      <th>RID</th>\n",
       "      <th>AGE</th>\n",
       "      <th>PTGENDER</th>\n",
       "      <th>PTEDUCAT</th>\n",
       "      <th>MOTHDEM</th>\n",
       "      <th>FATHDEM</th>\n",
       "      <th>PHC_MEM</th>\n",
       "      <th>PHC_EXF</th>\n",
       "      <th>PHC_LAN</th>\n",
       "      <th>AD_LABEL</th>\n",
       "      <th>...</th>\n",
       "      <th>wm-rh-superiorfrontal</th>\n",
       "      <th>wm-rh-superiorparietal</th>\n",
       "      <th>wm-rh-superiortemporal</th>\n",
       "      <th>wm-rh-supramarginal</th>\n",
       "      <th>wm-rh-frontalpole</th>\n",
       "      <th>wm-rh-temporalpole</th>\n",
       "      <th>wm-rh-transversetemporal</th>\n",
       "      <th>wm-rh-insula</th>\n",
       "      <th>wm-lh-Unsegmented</th>\n",
       "      <th>wm-rh-Unsegmented</th>\n",
       "    </tr>\n",
       "  </thead>\n",
       "  <tbody>\n",
       "    <tr>\n",
       "      <th>0</th>\n",
       "      <td>21</td>\n",
       "      <td>84.8186</td>\n",
       "      <td>2</td>\n",
       "      <td>18.0</td>\n",
       "      <td>0.0</td>\n",
       "      <td>0.0</td>\n",
       "      <td>1.173</td>\n",
       "      <td>-0.150</td>\n",
       "      <td>0.666</td>\n",
       "      <td>1.0</td>\n",
       "      <td>...</td>\n",
       "      <td>1.134314</td>\n",
       "      <td>1.018792</td>\n",
       "      <td>1.385129</td>\n",
       "      <td>1.172204</td>\n",
       "      <td>1.206521</td>\n",
       "      <td>1.469661</td>\n",
       "      <td>1.182140</td>\n",
       "      <td>1.214626</td>\n",
       "      <td>1.614727</td>\n",
       "      <td>1.587751</td>\n",
       "    </tr>\n",
       "    <tr>\n",
       "      <th>1</th>\n",
       "      <td>31</td>\n",
       "      <td>91.3073</td>\n",
       "      <td>2</td>\n",
       "      <td>18.0</td>\n",
       "      <td>0.0</td>\n",
       "      <td>0.0</td>\n",
       "      <td>1.038</td>\n",
       "      <td>-0.318</td>\n",
       "      <td>0.269</td>\n",
       "      <td>1.0</td>\n",
       "      <td>...</td>\n",
       "      <td>1.278840</td>\n",
       "      <td>1.128747</td>\n",
       "      <td>1.351128</td>\n",
       "      <td>1.211336</td>\n",
       "      <td>1.434194</td>\n",
       "      <td>1.470025</td>\n",
       "      <td>1.788683</td>\n",
       "      <td>1.324016</td>\n",
       "      <td>0.730924</td>\n",
       "      <td>0.814179</td>\n",
       "    </tr>\n",
       "    <tr>\n",
       "      <th>2</th>\n",
       "      <td>56</td>\n",
       "      <td>83.7563</td>\n",
       "      <td>2</td>\n",
       "      <td>13.0</td>\n",
       "      <td>0.0</td>\n",
       "      <td>0.0</td>\n",
       "      <td>0.349</td>\n",
       "      <td>0.090</td>\n",
       "      <td>0.155</td>\n",
       "      <td>2.0</td>\n",
       "      <td>...</td>\n",
       "      <td>1.260969</td>\n",
       "      <td>1.316324</td>\n",
       "      <td>1.271024</td>\n",
       "      <td>1.296633</td>\n",
       "      <td>1.447026</td>\n",
       "      <td>1.191524</td>\n",
       "      <td>1.020604</td>\n",
       "      <td>1.384523</td>\n",
       "      <td>1.323594</td>\n",
       "      <td>1.330080</td>\n",
       "    </tr>\n",
       "    <tr>\n",
       "      <th>3</th>\n",
       "      <td>59</td>\n",
       "      <td>84.9665</td>\n",
       "      <td>2</td>\n",
       "      <td>13.0</td>\n",
       "      <td>0.0</td>\n",
       "      <td>0.0</td>\n",
       "      <td>0.485</td>\n",
       "      <td>0.405</td>\n",
       "      <td>0.236</td>\n",
       "      <td>2.0</td>\n",
       "      <td>...</td>\n",
       "      <td>1.266842</td>\n",
       "      <td>1.245742</td>\n",
       "      <td>1.207279</td>\n",
       "      <td>1.322977</td>\n",
       "      <td>1.284196</td>\n",
       "      <td>1.209476</td>\n",
       "      <td>1.008124</td>\n",
       "      <td>1.253794</td>\n",
       "      <td>1.447955</td>\n",
       "      <td>1.407817</td>\n",
       "    </tr>\n",
       "    <tr>\n",
       "      <th>4</th>\n",
       "      <td>69</td>\n",
       "      <td>87.0582</td>\n",
       "      <td>1</td>\n",
       "      <td>16.0</td>\n",
       "      <td>0.0</td>\n",
       "      <td>0.0</td>\n",
       "      <td>0.087</td>\n",
       "      <td>1.025</td>\n",
       "      <td>1.060</td>\n",
       "      <td>2.0</td>\n",
       "      <td>...</td>\n",
       "      <td>1.381038</td>\n",
       "      <td>1.418930</td>\n",
       "      <td>1.426585</td>\n",
       "      <td>1.400109</td>\n",
       "      <td>1.566343</td>\n",
       "      <td>1.650883</td>\n",
       "      <td>1.144346</td>\n",
       "      <td>1.416124</td>\n",
       "      <td>0.863427</td>\n",
       "      <td>0.926379</td>\n",
       "    </tr>\n",
       "  </tbody>\n",
       "</table>\n",
       "<p>5 rows × 197 columns</p>\n",
       "</div>"
      ],
      "text/plain": [
       "   RID      AGE  PTGENDER  PTEDUCAT  MOTHDEM  FATHDEM  PHC_MEM  PHC_EXF  \\\n",
       "0   21  84.8186         2      18.0      0.0      0.0    1.173   -0.150   \n",
       "1   31  91.3073         2      18.0      0.0      0.0    1.038   -0.318   \n",
       "2   56  83.7563         2      13.0      0.0      0.0    0.349    0.090   \n",
       "3   59  84.9665         2      13.0      0.0      0.0    0.485    0.405   \n",
       "4   69  87.0582         1      16.0      0.0      0.0    0.087    1.025   \n",
       "\n",
       "   PHC_LAN  AD_LABEL  ...  wm-rh-superiorfrontal  wm-rh-superiorparietal  \\\n",
       "0    0.666       1.0  ...               1.134314                1.018792   \n",
       "1    0.269       1.0  ...               1.278840                1.128747   \n",
       "2    0.155       2.0  ...               1.260969                1.316324   \n",
       "3    0.236       2.0  ...               1.266842                1.245742   \n",
       "4    1.060       2.0  ...               1.381038                1.418930   \n",
       "\n",
       "   wm-rh-superiortemporal  wm-rh-supramarginal  wm-rh-frontalpole  \\\n",
       "0                1.385129             1.172204           1.206521   \n",
       "1                1.351128             1.211336           1.434194   \n",
       "2                1.271024             1.296633           1.447026   \n",
       "3                1.207279             1.322977           1.284196   \n",
       "4                1.426585             1.400109           1.566343   \n",
       "\n",
       "   wm-rh-temporalpole  wm-rh-transversetemporal  wm-rh-insula  \\\n",
       "0            1.469661                  1.182140      1.214626   \n",
       "1            1.470025                  1.788683      1.324016   \n",
       "2            1.191524                  1.020604      1.384523   \n",
       "3            1.209476                  1.008124      1.253794   \n",
       "4            1.650883                  1.144346      1.416124   \n",
       "\n",
       "   wm-lh-Unsegmented  wm-rh-Unsegmented  \n",
       "0           1.614727           1.587751  \n",
       "1           0.730924           0.814179  \n",
       "2           1.323594           1.330080  \n",
       "3           1.447955           1.407817  \n",
       "4           0.863427           0.926379  \n",
       "\n",
       "[5 rows x 197 columns]"
      ]
     },
     "execution_count": 32,
     "metadata": {},
     "output_type": "execute_result"
    }
   ],
   "source": [
    "df.head()"
   ]
  },
  {
   "cell_type": "markdown",
   "id": "graduate-bumper",
   "metadata": {},
   "source": [
    "### Gender\n",
    "\n",
    "Update gender to be $[0,1]$ where:\n",
    "- $0 \\rightarrow$ Male\n",
    "- $1 \\rightarrow$ Female"
   ]
  },
  {
   "cell_type": "code",
   "execution_count": 33,
   "id": "raising-albany",
   "metadata": {},
   "outputs": [],
   "source": [
    "df['PTGENDER'] = df['PTGENDER'] - 1"
   ]
  },
  {
   "cell_type": "markdown",
   "id": "laden-reliance",
   "metadata": {},
   "source": [
    "### Negative cols\n",
    "\n",
    "Make all negative cols positive before normalization.\n",
    "\n",
    "See article under heading [normalizing negative data](https://people.revoledu.com/kardi/tutorial/Similarity/Normalization.html)."
   ]
  },
  {
   "cell_type": "code",
   "execution_count": 34,
   "id": "excessive-captain",
   "metadata": {},
   "outputs": [],
   "source": [
    "negative_cols = [k for k,v in df.items() if v.min() < 0]"
   ]
  },
  {
   "cell_type": "code",
   "execution_count": 35,
   "id": "indonesian-mortality",
   "metadata": {},
   "outputs": [],
   "source": [
    "for k, v in df[negative_cols].items():\n",
    "    df[k] = df[k].map(lambda x: x + abs(v.min()))"
   ]
  },
  {
   "cell_type": "markdown",
   "id": "dirty-cookie",
   "metadata": {},
   "source": [
    "### Normalize columns\n",
    "\n",
    "Now that all columns contain positive values, normalize\n",
    "all features where $\\max > 1$.\n",
    "\n",
    "Normalize features using *min-max scaling*"
   ]
  },
  {
   "cell_type": "code",
   "execution_count": 36,
   "id": "pregnant-group",
   "metadata": {},
   "outputs": [],
   "source": [
    "# NOTE: if you remove the CDR score you won't have to adjust\n",
    "# your array indexes when exporting later\n",
    "excluded = ['RID', 'AD_LABEL']\n",
    "cols_to_normalize = [k for k, v in df.items() if v.max() > 1 and k not in excluded]"
   ]
  },
  {
   "cell_type": "code",
   "execution_count": 37,
   "id": "destroyed-bowling",
   "metadata": {},
   "outputs": [],
   "source": [
    "normalized_df = df[cols_to_normalize]\n",
    "numer = normalized_df - normalized_df.min()\n",
    "denom = normalized_df.max() - normalized_df.min()\n",
    "\n",
    "df[cols_to_normalize] = (numer / denom)"
   ]
  },
  {
   "cell_type": "markdown",
   "id": "greek-tactics",
   "metadata": {},
   "source": [
    "### Export\n",
    "\n",
    "- Convert dataframe to numpy array (excl. rid and label)\n",
    "- Create data dictionary\n",
    "- Split into training and test (80%, 20%)"
   ]
  },
  {
   "cell_type": "code",
   "execution_count": 38,
   "id": "polished-newsletter",
   "metadata": {},
   "outputs": [],
   "source": [
    "# convert dataframe into numpy array (excl. rid and label)\n",
    "cols_to_keep = [c for c in df.columns if c not in excluded]\n",
    "arr = df.loc[:, cols_to_keep].values"
   ]
  },
  {
   "cell_type": "code",
   "execution_count": 39,
   "id": "regulation-trust",
   "metadata": {},
   "outputs": [],
   "source": [
    "keys = ['CN', 'MCI', 'AD' ]\n",
    "data_dict = {k: [] for k in keys}\n",
    "\n",
    "for i, subj in enumerate(arr):\n",
    "    key = int(df['AD_LABEL'][i]) - 1\n",
    "    item = np.expand_dims(subj, axis=0)\n",
    "    data_dict[keys[key]].append(item)"
   ]
  },
  {
   "cell_type": "code",
   "execution_count": 40,
   "id": "political-detroit",
   "metadata": {},
   "outputs": [],
   "source": [
    "# separate data dictionary into training and test sets\n",
    "train_dict = {}\n",
    "test_dict = {}\n",
    "for k, v in data_dict.items():\n",
    "    no_train_samples = round(len(v) * .80)\n",
    "    train_dict[k] = v[:no_train_samples]\n",
    "    test_dict[k] = v[no_train_samples:]"
   ]
  },
  {
   "cell_type": "code",
   "execution_count": 41,
   "id": "plastic-education",
   "metadata": {},
   "outputs": [],
   "source": [
    "if not os.path.exists('data/'):\n",
    "    os.mkdir('data/')"
   ]
  },
  {
   "cell_type": "code",
   "execution_count": 42,
   "id": "vanilla-genealogy",
   "metadata": {},
   "outputs": [],
   "source": [
    "np.save('data/ad_class_train', train_dict, allow_pickle=True)"
   ]
  },
  {
   "cell_type": "code",
   "execution_count": 43,
   "id": "domestic-bandwidth",
   "metadata": {},
   "outputs": [],
   "source": [
    "np.save('data/ad_class_test', train_dict, allow_pickle=True)"
   ]
  },
  {
   "cell_type": "markdown",
   "id": "sunrise-hopkins",
   "metadata": {},
   "source": [
    "### Log\n",
    "\n",
    "Keep track of datashape and where features sit for future usage.\n",
    "\n",
    "**Order of features in array are as follows:**\n",
    "\n",
    "*Risk factors* $\\rightarrow$ *Cognitive factors* $\\rightarrow$ *MRI factors*"
   ]
  },
  {
   "cell_type": "code",
   "execution_count": 44,
   "id": "novel-brook",
   "metadata": {},
   "outputs": [
    {
     "name": "stdout",
     "output_type": "stream",
     "text": [
      "[('CN', 294), ('MCI', 110), ('AD', 47)]\n",
      "[('CN', 73), ('MCI', 28), ('AD', 12)]\n",
      "\n",
      "    Risk features (excl. rid): 5,\n",
      "    Cognitive features (excl. label): 13,\n",
      "    MRI cols: 177\n",
      "\n"
     ]
    }
   ],
   "source": [
    "print([(k, len(v)) for k,v in train_dict.items()])\n",
    "print([(k, len(v)) for k,v in test_dict.items()])\n",
    "\n",
    "# we have removed rid from risk cols and ad_label from cognitive cols\n",
    "# NOTE: if we decide to remove CDR then cognitive cols - 2\n",
    "print(f\"\"\"\n",
    "    Risk features (excl. rid): {len(risk_cols) - 1},\n",
    "    Cognitive features (excl. label): {len(cognitive_cols) - 1},\n",
    "    MRI cols: {len(mri_cols)}\n",
    "\"\"\")"
   ]
  },
  {
   "cell_type": "markdown",
   "id": "excessive-looking",
   "metadata": {},
   "source": [
    "### Data loading test"
   ]
  },
  {
   "cell_type": "code",
   "execution_count": 45,
   "id": "tender-brick",
   "metadata": {},
   "outputs": [],
   "source": [
    "test_root = 'data/ad_class_train.npy'\n",
    "with open(test_root, 'rb') as f:\n",
    "    data_dict = np.load(f, allow_pickle=True)\n",
    "\n",
    "# load object in numpy using data_dict[()]['AD']"
   ]
  },
  {
   "cell_type": "code",
   "execution_count": 50,
   "id": "super-sodium",
   "metadata": {},
   "outputs": [
    {
     "data": {
      "text/plain": [
       "array([[0.6934069 , 0.        , 0.83333333, 0.        , 0.        ,\n",
       "        0.30626023, 0.61769956, 0.40131437, 0.30733206, 0.76850211,\n",
       "        0.75      , 0.84615385, 0.        , 0.04918033, 0.56521739,\n",
       "        0.47826087, 0.31225047, 0.49602302, 0.48687168, 0.55034526,\n",
       "        0.23328005, 0.25137255, 0.66739609, 0.14982578, 0.3935899 ,\n",
       "        0.28211031, 0.60698206, 0.36265916, 0.49857326, 0.30694524,\n",
       "        0.52610557, 0.51844572, 0.08747958, 0.44354742, 0.60496959,\n",
       "        0.24449593, 0.14651356, 0.59559876, 0.11961297, 0.2970036 ,\n",
       "        0.47124603, 0.34294008, 0.54375861, 0.07236322, 0.34860891,\n",
       "        0.        , 0.        , 0.        , 0.17561781, 0.61345251,\n",
       "        0.12282124, 0.29954476, 0.18425925, 0.2721465 , 0.10019129,\n",
       "        0.3935871 , 0.32728262, 0.07167696, 0.27436288, 0.19766599,\n",
       "        0.06163092, 0.24838172, 0.21448134, 0.41819001, 0.1813811 ,\n",
       "        0.56666207, 0.32984083, 0.21373426, 0.1252416 , 0.11028754,\n",
       "        0.20612522, 0.25791234, 0.1931159 , 0.24770914, 0.13781605,\n",
       "        0.39985192, 0.09726553, 0.27649215, 0.08607942, 0.19367217,\n",
       "        0.1519591 , 0.13308876, 0.28471679, 0.47814246, 0.48412628,\n",
       "        0.51066071, 0.13222239, 0.28165024, 0.27652713, 0.21250742,\n",
       "        0.08259738, 0.38527798, 0.25244958, 0.14975492, 0.22645164,\n",
       "        0.22019961, 0.07311324, 0.29396497, 0.18508879, 0.44448052,\n",
       "        0.16557274, 0.54287372, 0.29665115, 0.45642376, 0.17435378,\n",
       "        0.18245963, 0.09619578, 0.22572524, 0.2396348 , 0.35700728,\n",
       "        0.14510668, 0.29052543, 0.21796432, 0.26819542, 0.08518327,\n",
       "        0.20191954, 0.14047139, 0.11338878, 0.20480493, 0.37121847,\n",
       "        0.41798253, 0.        , 0.12789901, 0.21317027, 0.20617887,\n",
       "        0.12289991, 0.09511325, 0.37693843, 0.23691247, 0.10502863,\n",
       "        0.2512312 , 0.22538559, 0.06070039, 0.34833504, 0.1547454 ,\n",
       "        0.45849986, 0.20703328, 0.47848149, 0.52342088, 0.22424232,\n",
       "        0.13584634, 0.11849926, 0.20181129, 0.26142835, 0.35210745,\n",
       "        0.24679606, 0.13490007, 0.38129497, 0.13376778, 0.29547774,\n",
       "        0.10088009, 0.25366386, 0.17999714, 0.1449361 , 0.31999308,\n",
       "        0.37775162, 0.67554586, 0.        , 0.15284952, 0.20760722,\n",
       "        0.29666635, 0.24290433, 0.06819088, 0.34328489, 0.22173949,\n",
       "        0.17229493, 0.20562615, 0.2419083 , 0.05347354, 0.38858951,\n",
       "        0.09938703, 0.47598616, 0.23290061, 0.31075499, 0.2680532 ,\n",
       "        0.40631157, 0.24392389, 0.2282175 , 0.12815373, 0.19510393,\n",
       "        0.29947772, 0.37656051, 0.14375283, 0.44559703, 0.30835881,\n",
       "        0.35733109, 0.0688813 , 0.25934841, 0.18919016, 0.17536271,\n",
       "        0.38200304, 0.27698204, 0.6538289 , 0.39238333, 0.51062841]])"
      ]
     },
     "execution_count": 50,
     "metadata": {},
     "output_type": "execute_result"
    }
   ],
   "source": [
    "data_dict[()]['AD'][0]"
   ]
  },
  {
   "cell_type": "code",
   "execution_count": null,
   "id": "hundred-norway",
   "metadata": {},
   "outputs": [],
   "source": []
  }
 ],
 "metadata": {
  "kernelspec": {
   "display_name": "Python 3",
   "language": "python",
   "name": "python3"
  },
  "language_info": {
   "codemirror_mode": {
    "name": "ipython",
    "version": 3
   },
   "file_extension": ".py",
   "mimetype": "text/x-python",
   "name": "python",
   "nbconvert_exporter": "python",
   "pygments_lexer": "ipython3",
   "version": "3.6.12"
  }
 },
 "nbformat": 4,
 "nbformat_minor": 5
}

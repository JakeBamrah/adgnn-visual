{
 "cells": [
  {
   "cell_type": "markdown",
   "id": "atomic-curtis",
   "metadata": {},
   "source": [
    "# Pre-processing\n",
    "\n",
    "- Select desired columns from each of the 11 datasets\n",
    "- Preprocess and clean columns\n",
    "- Append dataset to MRI (`processed.csv`)\n",
    "\n",
    "**General process for each dataset**\n",
    "- Sort each patient by most recent visit\n",
    "- Remove duplicate visits keeping the most recent\n",
    "- Merge dataset with aggregate dataset\n",
    "- Check for null and unsubmitted values\n",
    "- Impute values\n",
    "\n",
    "All values have been preprocessed and imputed. Values are imputed by means of using the mean, median or value from most similar row.\n",
    "\n",
    "All null values have been removed"
   ]
  },
  {
   "cell_type": "code",
   "execution_count": 1,
   "id": "absolute-issue",
   "metadata": {},
   "outputs": [],
   "source": [
    "import numpy as np\n",
    "import pandas as pd\n",
    "\n",
    "import os\n",
    "import re"
   ]
  },
  {
   "cell_type": "markdown",
   "id": "bright-aruba",
   "metadata": {},
   "source": [
    "### Helpers"
   ]
  },
  {
   "cell_type": "code",
   "execution_count": 2,
   "id": "impaired-formation",
   "metadata": {},
   "outputs": [],
   "source": [
    "pattern = r'S_(\\d*)'\n",
    "def parse_rid(subject_id):\n",
    "    # parse rid from subject_id\n",
    "    rid = re.search(pattern, subject_id).group(1)\n",
    "    return int(rid)"
   ]
  },
  {
   "cell_type": "code",
   "execution_count": 3,
   "id": "committed-dutch",
   "metadata": {},
   "outputs": [],
   "source": [
    "def find_similar_row(row, df, column=None):\n",
    "    \"\"\"\n",
    "        Compare a row for a given dataframe against all other\n",
    "        rows in the same dataframe.\n",
    "        \n",
    "        Calculate the norm of each row in a dataframe\n",
    "        compared to the target row. Return the compared row\n",
    "        with the smallest norm.\n",
    "        \n",
    "        NOTE: axis=1 is expected during df.apply usage which means:\n",
    "            row.name === row_index\n",
    "    \"\"\"\n",
    "    \n",
    "    # remove target row from df and subtract target row values from remaining rows\n",
    "    diff = df.drop(index=row.name)\n",
    "    diff = diff - row.values\n",
    "    \n",
    "    # ensure all values are valid numbers before calculating norm\n",
    "    diff = diff.fillna(value=0)\n",
    "    norm_df = diff.apply(np.linalg.norm, axis=1)\n",
    "    if column:\n",
    "        try:\n",
    "            return df.loc[norm_df.idxmin(), column]   \n",
    "        except:\n",
    "            raise KeyError(f\"Invalid key: {column}\")\n",
    "    \n",
    "    return df.loc[norm_df.idxmin(skipna=True), :]   "
   ]
  },
  {
   "cell_type": "markdown",
   "id": "recovered-silence",
   "metadata": {},
   "source": [
    "### Setup MRI with correct RID format"
   ]
  },
  {
   "cell_type": "code",
   "execution_count": 4,
   "id": "buried-grain",
   "metadata": {},
   "outputs": [],
   "source": [
    "df = pd.read_csv('working/processed.csv')"
   ]
  },
  {
   "cell_type": "code",
   "execution_count": 5,
   "id": "objective-rescue",
   "metadata": {},
   "outputs": [
    {
     "data": {
      "text/plain": [
       "(617, 178)"
      ]
     },
     "execution_count": 5,
     "metadata": {},
     "output_type": "execute_result"
    }
   ],
   "source": [
    "df.shape"
   ]
  },
  {
   "cell_type": "code",
   "execution_count": 6,
   "id": "fleet-jerusalem",
   "metadata": {},
   "outputs": [
    {
     "data": {
      "text/html": [
       "<div>\n",
       "<style scoped>\n",
       "    .dataframe tbody tr th:only-of-type {\n",
       "        vertical-align: middle;\n",
       "    }\n",
       "\n",
       "    .dataframe tbody tr th {\n",
       "        vertical-align: top;\n",
       "    }\n",
       "\n",
       "    .dataframe thead th {\n",
       "        text-align: right;\n",
       "    }\n",
       "</style>\n",
       "<table border=\"1\" class=\"dataframe\">\n",
       "  <thead>\n",
       "    <tr style=\"text-align: right;\">\n",
       "      <th></th>\n",
       "      <th>SubjID</th>\n",
       "      <th>lh-Cerebellum-White-Matter</th>\n",
       "      <th>lh-Cerebellum-Cortex</th>\n",
       "      <th>lh-Thalamus-Proper</th>\n",
       "      <th>lh-Caudate</th>\n",
       "      <th>lh-Putamen</th>\n",
       "      <th>lh-Pallidum</th>\n",
       "      <th>3rd-Ventricle</th>\n",
       "      <th>4th-Ventricle</th>\n",
       "      <th>Brain-Stem</th>\n",
       "      <th>...</th>\n",
       "      <th>wm-rh-superiorfrontal</th>\n",
       "      <th>wm-rh-superiorparietal</th>\n",
       "      <th>wm-rh-superiortemporal</th>\n",
       "      <th>wm-rh-supramarginal</th>\n",
       "      <th>wm-rh-frontalpole</th>\n",
       "      <th>wm-rh-temporalpole</th>\n",
       "      <th>wm-rh-transversetemporal</th>\n",
       "      <th>wm-rh-insula</th>\n",
       "      <th>wm-lh-Unsegmented</th>\n",
       "      <th>wm-rh-Unsegmented</th>\n",
       "    </tr>\n",
       "  </thead>\n",
       "  <tbody>\n",
       "    <tr>\n",
       "      <th>0</th>\n",
       "      <td>pvcrADNI_011_S_0021_PT_AV1451_2018021508521578...</td>\n",
       "      <td>1.122404</td>\n",
       "      <td>1.182973</td>\n",
       "      <td>1.817158</td>\n",
       "      <td>1.391494</td>\n",
       "      <td>1.799036</td>\n",
       "      <td>2.537900</td>\n",
       "      <td>0.965265</td>\n",
       "      <td>2.742845</td>\n",
       "      <td>1.074118</td>\n",
       "      <td>...</td>\n",
       "      <td>1.134314</td>\n",
       "      <td>1.018792</td>\n",
       "      <td>1.385129</td>\n",
       "      <td>1.172204</td>\n",
       "      <td>1.206521</td>\n",
       "      <td>1.469661</td>\n",
       "      <td>1.182140</td>\n",
       "      <td>1.214626</td>\n",
       "      <td>1.614727</td>\n",
       "      <td>1.587751</td>\n",
       "    </tr>\n",
       "    <tr>\n",
       "      <th>1</th>\n",
       "      <td>pvcrADNI_023_S_0031_PT_AV1451_2018042609172523...</td>\n",
       "      <td>1.021761</td>\n",
       "      <td>1.112750</td>\n",
       "      <td>1.303878</td>\n",
       "      <td>1.070731</td>\n",
       "      <td>1.652041</td>\n",
       "      <td>1.982748</td>\n",
       "      <td>1.250516</td>\n",
       "      <td>1.489708</td>\n",
       "      <td>1.178413</td>\n",
       "      <td>...</td>\n",
       "      <td>1.278840</td>\n",
       "      <td>1.128747</td>\n",
       "      <td>1.351128</td>\n",
       "      <td>1.211336</td>\n",
       "      <td>1.434194</td>\n",
       "      <td>1.470025</td>\n",
       "      <td>1.788683</td>\n",
       "      <td>1.324016</td>\n",
       "      <td>0.730924</td>\n",
       "      <td>0.814179</td>\n",
       "    </tr>\n",
       "    <tr>\n",
       "      <th>2</th>\n",
       "      <td>pvcrADNI_067_S_0056_PT_AV1451_2018022811275035...</td>\n",
       "      <td>0.933901</td>\n",
       "      <td>1.040130</td>\n",
       "      <td>1.540324</td>\n",
       "      <td>1.340539</td>\n",
       "      <td>1.969141</td>\n",
       "      <td>3.298904</td>\n",
       "      <td>0.830050</td>\n",
       "      <td>1.337372</td>\n",
       "      <td>0.983483</td>\n",
       "      <td>...</td>\n",
       "      <td>1.260969</td>\n",
       "      <td>1.316324</td>\n",
       "      <td>1.271024</td>\n",
       "      <td>1.296633</td>\n",
       "      <td>1.447026</td>\n",
       "      <td>1.191524</td>\n",
       "      <td>1.020604</td>\n",
       "      <td>1.384523</td>\n",
       "      <td>1.323594</td>\n",
       "      <td>1.330080</td>\n",
       "    </tr>\n",
       "    <tr>\n",
       "      <th>3</th>\n",
       "      <td>pvcrADNI_067_S_0059_PT_AV1451_2017122009132852...</td>\n",
       "      <td>1.003087</td>\n",
       "      <td>1.070947</td>\n",
       "      <td>1.503807</td>\n",
       "      <td>1.328975</td>\n",
       "      <td>1.878053</td>\n",
       "      <td>2.308336</td>\n",
       "      <td>0.919911</td>\n",
       "      <td>1.819666</td>\n",
       "      <td>0.984816</td>\n",
       "      <td>...</td>\n",
       "      <td>1.266842</td>\n",
       "      <td>1.245742</td>\n",
       "      <td>1.207279</td>\n",
       "      <td>1.322977</td>\n",
       "      <td>1.284196</td>\n",
       "      <td>1.209476</td>\n",
       "      <td>1.008124</td>\n",
       "      <td>1.253794</td>\n",
       "      <td>1.447955</td>\n",
       "      <td>1.407817</td>\n",
       "    </tr>\n",
       "    <tr>\n",
       "      <th>4</th>\n",
       "      <td>pvcrADNI_100_S_0069_PT_AV1451_2018040909483962...</td>\n",
       "      <td>1.042776</td>\n",
       "      <td>1.112264</td>\n",
       "      <td>1.267889</td>\n",
       "      <td>1.346736</td>\n",
       "      <td>2.233189</td>\n",
       "      <td>5.768378</td>\n",
       "      <td>1.248420</td>\n",
       "      <td>0.774037</td>\n",
       "      <td>1.073024</td>\n",
       "      <td>...</td>\n",
       "      <td>1.381038</td>\n",
       "      <td>1.418930</td>\n",
       "      <td>1.426585</td>\n",
       "      <td>1.400109</td>\n",
       "      <td>1.566343</td>\n",
       "      <td>1.650883</td>\n",
       "      <td>1.144346</td>\n",
       "      <td>1.416124</td>\n",
       "      <td>0.863427</td>\n",
       "      <td>0.926379</td>\n",
       "    </tr>\n",
       "  </tbody>\n",
       "</table>\n",
       "<p>5 rows × 178 columns</p>\n",
       "</div>"
      ],
      "text/plain": [
       "                                              SubjID  \\\n",
       "0  pvcrADNI_011_S_0021_PT_AV1451_2018021508521578...   \n",
       "1  pvcrADNI_023_S_0031_PT_AV1451_2018042609172523...   \n",
       "2  pvcrADNI_067_S_0056_PT_AV1451_2018022811275035...   \n",
       "3  pvcrADNI_067_S_0059_PT_AV1451_2017122009132852...   \n",
       "4  pvcrADNI_100_S_0069_PT_AV1451_2018040909483962...   \n",
       "\n",
       "   lh-Cerebellum-White-Matter  lh-Cerebellum-Cortex  lh-Thalamus-Proper  \\\n",
       "0                    1.122404              1.182973            1.817158   \n",
       "1                    1.021761              1.112750            1.303878   \n",
       "2                    0.933901              1.040130            1.540324   \n",
       "3                    1.003087              1.070947            1.503807   \n",
       "4                    1.042776              1.112264            1.267889   \n",
       "\n",
       "   lh-Caudate  lh-Putamen  lh-Pallidum  3rd-Ventricle  4th-Ventricle  \\\n",
       "0    1.391494    1.799036     2.537900       0.965265       2.742845   \n",
       "1    1.070731    1.652041     1.982748       1.250516       1.489708   \n",
       "2    1.340539    1.969141     3.298904       0.830050       1.337372   \n",
       "3    1.328975    1.878053     2.308336       0.919911       1.819666   \n",
       "4    1.346736    2.233189     5.768378       1.248420       0.774037   \n",
       "\n",
       "   Brain-Stem  ...  wm-rh-superiorfrontal  wm-rh-superiorparietal  \\\n",
       "0    1.074118  ...               1.134314                1.018792   \n",
       "1    1.178413  ...               1.278840                1.128747   \n",
       "2    0.983483  ...               1.260969                1.316324   \n",
       "3    0.984816  ...               1.266842                1.245742   \n",
       "4    1.073024  ...               1.381038                1.418930   \n",
       "\n",
       "   wm-rh-superiortemporal  wm-rh-supramarginal  wm-rh-frontalpole  \\\n",
       "0                1.385129             1.172204           1.206521   \n",
       "1                1.351128             1.211336           1.434194   \n",
       "2                1.271024             1.296633           1.447026   \n",
       "3                1.207279             1.322977           1.284196   \n",
       "4                1.426585             1.400109           1.566343   \n",
       "\n",
       "   wm-rh-temporalpole  wm-rh-transversetemporal  wm-rh-insula  \\\n",
       "0            1.469661                  1.182140      1.214626   \n",
       "1            1.470025                  1.788683      1.324016   \n",
       "2            1.191524                  1.020604      1.384523   \n",
       "3            1.209476                  1.008124      1.253794   \n",
       "4            1.650883                  1.144346      1.416124   \n",
       "\n",
       "   wm-lh-Unsegmented  wm-rh-Unsegmented  \n",
       "0           1.614727           1.587751  \n",
       "1           0.730924           0.814179  \n",
       "2           1.323594           1.330080  \n",
       "3           1.447955           1.407817  \n",
       "4           0.863427           0.926379  \n",
       "\n",
       "[5 rows x 178 columns]"
      ]
     },
     "execution_count": 6,
     "metadata": {},
     "output_type": "execute_result"
    }
   ],
   "source": [
    "df.head()"
   ]
  },
  {
   "cell_type": "code",
   "execution_count": 7,
   "id": "played-michigan",
   "metadata": {},
   "outputs": [],
   "source": [
    "# rename subject ID column\n",
    "df = df.rename(columns={'SubjID': 'RID'})\n",
    "df['RID'] = df['RID'].apply(parse_rid)"
   ]
  },
  {
   "cell_type": "code",
   "execution_count": 8,
   "id": "completed-merchandise",
   "metadata": {},
   "outputs": [],
   "source": [
    "df = df.drop_duplicates(subset=['RID'], keep='first')"
   ]
  },
  {
   "cell_type": "markdown",
   "id": "scenic-webster",
   "metadata": {},
   "source": [
    "### 1 - Alzheimer's disease sequencing project (ADSP)\n",
    "\n",
    "Selected features:\n",
    "- Roster ID\n",
    "- Age\n",
    "- Gender\n",
    "- Phenotype Harmonization Consortium (PHC) - Composite Cognitive Scores\n",
    "- Education length (years)\n",
    "- Alzheimer's diagnosis"
   ]
  },
  {
   "cell_type": "code",
   "execution_count": 9,
   "id": "flexible-coffee",
   "metadata": {},
   "outputs": [],
   "source": [
    "adsp = pd.read_csv('working/1_ADSP_PHC_COGN.csv')"
   ]
  },
  {
   "cell_type": "code",
   "execution_count": 10,
   "id": "funded-surge",
   "metadata": {},
   "outputs": [],
   "source": [
    "# sort subjects by age (oldest first) \n",
    "# remove duplicate visits by keeping the first value (most recent visit)\n",
    "cols_to_keep = ['RID', 'AGE', 'PTGENDER', 'PTEDUCAT', 'PHC_MEM', 'PHC_EXF', 'PHC_LAN', 'DX']\n",
    "adsp = (adsp\n",
    "           .sort_values('AGE', ascending=False)\n",
    "           .drop_duplicates(subset=['RID'], keep='first')\n",
    "          )[cols_to_keep]"
   ]
  },
  {
   "cell_type": "code",
   "execution_count": 11,
   "id": "reported-liquid",
   "metadata": {},
   "outputs": [],
   "source": [
    "adsp = adsp.sort_values('RID')"
   ]
  },
  {
   "cell_type": "code",
   "execution_count": 12,
   "id": "rapid-thought",
   "metadata": {},
   "outputs": [
    {
     "data": {
      "text/html": [
       "<div>\n",
       "<style scoped>\n",
       "    .dataframe tbody tr th:only-of-type {\n",
       "        vertical-align: middle;\n",
       "    }\n",
       "\n",
       "    .dataframe tbody tr th {\n",
       "        vertical-align: top;\n",
       "    }\n",
       "\n",
       "    .dataframe thead th {\n",
       "        text-align: right;\n",
       "    }\n",
       "</style>\n",
       "<table border=\"1\" class=\"dataframe\">\n",
       "  <thead>\n",
       "    <tr style=\"text-align: right;\">\n",
       "      <th></th>\n",
       "      <th>RID</th>\n",
       "      <th>AGE</th>\n",
       "      <th>PTGENDER</th>\n",
       "      <th>PTEDUCAT</th>\n",
       "      <th>PHC_MEM</th>\n",
       "      <th>PHC_EXF</th>\n",
       "      <th>PHC_LAN</th>\n",
       "      <th>DX</th>\n",
       "    </tr>\n",
       "  </thead>\n",
       "  <tbody>\n",
       "    <tr>\n",
       "      <th>9</th>\n",
       "      <td>2</td>\n",
       "      <td>86.5489</td>\n",
       "      <td>1</td>\n",
       "      <td>16.0</td>\n",
       "      <td>-0.207</td>\n",
       "      <td>-0.703</td>\n",
       "      <td>0.195</td>\n",
       "      <td>2.0</td>\n",
       "    </tr>\n",
       "    <tr>\n",
       "      <th>13</th>\n",
       "      <td>3</td>\n",
       "      <td>83.3648</td>\n",
       "      <td>1</td>\n",
       "      <td>18.0</td>\n",
       "      <td>-1.559</td>\n",
       "      <td>-0.645</td>\n",
       "      <td>-0.756</td>\n",
       "      <td>3.0</td>\n",
       "    </tr>\n",
       "    <tr>\n",
       "      <th>16</th>\n",
       "      <td>4</td>\n",
       "      <td>70.8802</td>\n",
       "      <td>1</td>\n",
       "      <td>10.0</td>\n",
       "      <td>0.096</td>\n",
       "      <td>-0.417</td>\n",
       "      <td>0.624</td>\n",
       "      <td>2.0</td>\n",
       "    </tr>\n",
       "    <tr>\n",
       "      <th>21</th>\n",
       "      <td>5</td>\n",
       "      <td>76.7775</td>\n",
       "      <td>1</td>\n",
       "      <td>16.0</td>\n",
       "      <td>0.773</td>\n",
       "      <td>0.704</td>\n",
       "      <td>0.858</td>\n",
       "      <td>1.0</td>\n",
       "    </tr>\n",
       "    <tr>\n",
       "      <th>28</th>\n",
       "      <td>6</td>\n",
       "      <td>83.5209</td>\n",
       "      <td>2</td>\n",
       "      <td>13.0</td>\n",
       "      <td>-0.720</td>\n",
       "      <td>-0.234</td>\n",
       "      <td>0.364</td>\n",
       "      <td>2.0</td>\n",
       "    </tr>\n",
       "  </tbody>\n",
       "</table>\n",
       "</div>"
      ],
      "text/plain": [
       "    RID      AGE  PTGENDER  PTEDUCAT  PHC_MEM  PHC_EXF  PHC_LAN   DX\n",
       "9     2  86.5489         1      16.0   -0.207   -0.703    0.195  2.0\n",
       "13    3  83.3648         1      18.0   -1.559   -0.645   -0.756  3.0\n",
       "16    4  70.8802         1      10.0    0.096   -0.417    0.624  2.0\n",
       "21    5  76.7775         1      16.0    0.773    0.704    0.858  1.0\n",
       "28    6  83.5209         2      13.0   -0.720   -0.234    0.364  2.0"
      ]
     },
     "execution_count": 12,
     "metadata": {},
     "output_type": "execute_result"
    }
   ],
   "source": [
    "adsp.head()"
   ]
  },
  {
   "cell_type": "code",
   "execution_count": 13,
   "id": "little-array",
   "metadata": {},
   "outputs": [],
   "source": [
    "df = df.merge(right=adsp, how='left', on='RID')"
   ]
  },
  {
   "cell_type": "code",
   "execution_count": 14,
   "id": "hollow-accounting",
   "metadata": {},
   "outputs": [],
   "source": [
    "# replace na values with mean of each column\n",
    "df['PHC_EXF'] = df['PHC_EXF'].fillna(df['PHC_EXF'].mean())\n",
    "df['PHC_LAN'] = df['PHC_LAN'].fillna(df['PHC_LAN'].mean())"
   ]
  },
  {
   "cell_type": "code",
   "execution_count": 15,
   "id": "based-seating",
   "metadata": {},
   "outputs": [],
   "source": [
    "df = df.rename(columns={'DX': 'AD_LABEL'})"
   ]
  },
  {
   "cell_type": "markdown",
   "id": "precise-england",
   "metadata": {},
   "source": [
    "### 2 - Alzheimer's disease assessment scale (ADAS)\n",
    "\n",
    "Selected features:\n",
    "- Alzheimer's disease assessment scale total score"
   ]
  },
  {
   "cell_type": "code",
   "execution_count": 16,
   "id": "czech-incentive",
   "metadata": {},
   "outputs": [],
   "source": [
    "# ADNI 1 is stored in a separate dataset from ADNI 2, 3\n",
    "adas_1 = pd.read_csv('working/2_1_ADAS_ADNI1.csv')\n",
    "adas_2 = pd.read_csv('working/2_2 ADAS_ADNIGO23.csv')"
   ]
  },
  {
   "cell_type": "code",
   "execution_count": 17,
   "id": "exposed-relative",
   "metadata": {},
   "outputs": [],
   "source": [
    "adas_1 = (adas_1\n",
    "          .sort_values(by='EXAMDATE', ascending=False)\n",
    "          .drop_duplicates(subset=['RID'], keep='first')\n",
    "          .sort_values(by='RID')\n",
    "         )[['RID', 'CONMCXLA']]\n",
    "adas_1 = adas_1.rename(columns={'CONMCXLA': 'ADAS_TOTAL'})"
   ]
  },
  {
   "cell_type": "code",
   "execution_count": 18,
   "id": "severe-swiss",
   "metadata": {},
   "outputs": [],
   "source": [
    "adas_2 = (adas_2\n",
    "          .sort_values(by='USERDATE2', ascending=False)\n",
    "          .drop_duplicates(subset=['RID'], keep='first')\n",
    "          .sort_values(by='RID')\n",
    "         )[['RID', 'TOTAL13']]\n",
    "adas_2 = adas_2.rename(columns={'TOTAL13': 'ADAS_TOTAL'})"
   ]
  },
  {
   "cell_type": "code",
   "execution_count": 19,
   "id": "original-tuition",
   "metadata": {},
   "outputs": [],
   "source": [
    "# concat ADAS dataframes\n",
    "adas = pd.concat([adas_1, adas_2], ignore_index=True)"
   ]
  },
  {
   "cell_type": "code",
   "execution_count": 20,
   "id": "lightweight-running",
   "metadata": {},
   "outputs": [],
   "source": [
    "df = df.merge(right=adas, how='left', on='RID')\n",
    "df['ADAS_TOTAL'] = df['ADAS_TOTAL'].fillna(df['ADAS_TOTAL'].median())"
   ]
  },
  {
   "cell_type": "markdown",
   "id": "unnecessary-gregory",
   "metadata": {},
   "source": [
    "### 3 - Cognitive battery tests (CBB)\n",
    "\n",
    "Selected features:\n",
    "- Total correct\n",
    "- Total incorrect\n",
    "\n",
    "Engineered features:\n",
    "- Cognitive battery score (%)"
   ]
  },
  {
   "cell_type": "code",
   "execution_count": 21,
   "id": "light-audience",
   "metadata": {},
   "outputs": [],
   "source": [
    "cbb = pd.read_csv('working/3_CBBRESULTS.csv')"
   ]
  },
  {
   "cell_type": "code",
   "execution_count": 22,
   "id": "animated-auction",
   "metadata": {},
   "outputs": [],
   "source": [
    "cbb = pd.DataFrame(cbb.groupby(by='RID').agg(['mean']))[['TotalCorrect', 'TotalErrors']]"
   ]
  },
  {
   "cell_type": "code",
   "execution_count": 23,
   "id": "green-capitol",
   "metadata": {},
   "outputs": [],
   "source": [
    "cbb = cbb.reset_index()"
   ]
  },
  {
   "cell_type": "code",
   "execution_count": 24,
   "id": "lasting-witch",
   "metadata": {},
   "outputs": [],
   "source": [
    "cbb.columns = ['RID', 'CORRECT', 'ERRORS']"
   ]
  },
  {
   "cell_type": "code",
   "execution_count": 25,
   "id": "desperate-affair",
   "metadata": {},
   "outputs": [
    {
     "data": {
      "text/html": [
       "<div>\n",
       "<style scoped>\n",
       "    .dataframe tbody tr th:only-of-type {\n",
       "        vertical-align: middle;\n",
       "    }\n",
       "\n",
       "    .dataframe tbody tr th {\n",
       "        vertical-align: top;\n",
       "    }\n",
       "\n",
       "    .dataframe thead th {\n",
       "        text-align: right;\n",
       "    }\n",
       "</style>\n",
       "<table border=\"1\" class=\"dataframe\">\n",
       "  <thead>\n",
       "    <tr style=\"text-align: right;\">\n",
       "      <th></th>\n",
       "      <th>RID</th>\n",
       "      <th>CORRECT</th>\n",
       "      <th>ERRORS</th>\n",
       "    </tr>\n",
       "  </thead>\n",
       "  <tbody>\n",
       "    <tr>\n",
       "      <th>0</th>\n",
       "      <td>2</td>\n",
       "      <td>34.562500</td>\n",
       "      <td>12.625000</td>\n",
       "    </tr>\n",
       "    <tr>\n",
       "      <th>1</th>\n",
       "      <td>21</td>\n",
       "      <td>38.050000</td>\n",
       "      <td>7.550000</td>\n",
       "    </tr>\n",
       "    <tr>\n",
       "      <th>2</th>\n",
       "      <td>56</td>\n",
       "      <td>34.444444</td>\n",
       "      <td>19.555556</td>\n",
       "    </tr>\n",
       "    <tr>\n",
       "      <th>3</th>\n",
       "      <td>59</td>\n",
       "      <td>37.750000</td>\n",
       "      <td>8.250000</td>\n",
       "    </tr>\n",
       "    <tr>\n",
       "      <th>4</th>\n",
       "      <td>69</td>\n",
       "      <td>36.750000</td>\n",
       "      <td>9.166667</td>\n",
       "    </tr>\n",
       "  </tbody>\n",
       "</table>\n",
       "</div>"
      ],
      "text/plain": [
       "   RID    CORRECT     ERRORS\n",
       "0    2  34.562500  12.625000\n",
       "1   21  38.050000   7.550000\n",
       "2   56  34.444444  19.555556\n",
       "3   59  37.750000   8.250000\n",
       "4   69  36.750000   9.166667"
      ]
     },
     "execution_count": 25,
     "metadata": {},
     "output_type": "execute_result"
    }
   ],
   "source": [
    "cbb.head()"
   ]
  },
  {
   "cell_type": "code",
   "execution_count": 26,
   "id": "athletic-charles",
   "metadata": {},
   "outputs": [],
   "source": [
    "# calculate the percentage score from correct / errors\n",
    "cbb['CBB_SCORE_%'] = 100 * (cbb['CORRECT'] / ( cbb['ERRORS'] + cbb['CORRECT']))"
   ]
  },
  {
   "cell_type": "code",
   "execution_count": 27,
   "id": "pressed-austin",
   "metadata": {},
   "outputs": [],
   "source": [
    "cbb = cbb.drop(columns=['CORRECT', 'ERRORS'])"
   ]
  },
  {
   "cell_type": "code",
   "execution_count": 28,
   "id": "reserved-principle",
   "metadata": {},
   "outputs": [],
   "source": [
    "df = df.merge(right=cbb, how='left', on='RID')"
   ]
  },
  {
   "cell_type": "code",
   "execution_count": 29,
   "id": "opponent-stone",
   "metadata": {},
   "outputs": [],
   "source": [
    "df = df.drop_duplicates(subset=['RID'])"
   ]
  },
  {
   "cell_type": "code",
   "execution_count": 30,
   "id": "advance-sleeve",
   "metadata": {},
   "outputs": [],
   "source": [
    "# replace 101 missing CBB values with most similar row\n",
    "to_replace = df['CBB_SCORE_%'].isnull()\n",
    "df.loc[to_replace, 'CBB_SCORE_%'] = df[to_replace].apply(\n",
    "    lambda row: find_similar_row(row, df, column='CBB_SCORE_%'),\n",
    "    axis=1\n",
    ")"
   ]
  },
  {
   "cell_type": "code",
   "execution_count": 31,
   "id": "breeding-final",
   "metadata": {},
   "outputs": [],
   "source": [
    "# fill in last 10 values that could not be given a similar value\n",
    "cbb_mean = df['CBB_SCORE_%'].mean()\n",
    "df['CBB_SCORE_%'] = df['CBB_SCORE_%'].fillna(cbb_mean)"
   ]
  },
  {
   "cell_type": "markdown",
   "id": "organic-indiana",
   "metadata": {},
   "source": [
    "### 4 - Clinical Dimentia Rating (CDR)\n",
    "\n",
    "Selected features:\n",
    "- Clinical dimentia rating"
   ]
  },
  {
   "cell_type": "code",
   "execution_count": 32,
   "id": "opponent-mongolia",
   "metadata": {},
   "outputs": [],
   "source": [
    "cdr = pd.read_csv('working/4_CDR.csv')"
   ]
  },
  {
   "cell_type": "code",
   "execution_count": 33,
   "id": "together-paraguay",
   "metadata": {},
   "outputs": [],
   "source": [
    "cdr = (cdr\n",
    "          .sort_values(by='EXAMDATE', ascending=False)\n",
    "          .drop_duplicates(subset=['RID'], keep='first')\n",
    "          .sort_values(by='RID')\n",
    "         )[['RID', 'CDGLOBAL']]"
   ]
  },
  {
   "cell_type": "code",
   "execution_count": 34,
   "id": "bearing-upset",
   "metadata": {},
   "outputs": [],
   "source": [
    "df = df.merge(right=cdr[['RID', 'CDGLOBAL']], how='left', on='RID')"
   ]
  },
  {
   "cell_type": "code",
   "execution_count": 35,
   "id": "lined-retention",
   "metadata": {},
   "outputs": [],
   "source": [
    "# drop patients with no label and no CDR score\n",
    "drop = df[(df['CDGLOBAL'].isnull()) & (df['AD_LABEL'].isnull())].index\n",
    "df = df.drop(drop)"
   ]
  },
  {
   "cell_type": "code",
   "execution_count": 36,
   "id": "friendly-reading",
   "metadata": {},
   "outputs": [],
   "source": [
    "# replace missing 11 CDR scores with AD_LABEL\n",
    "df.loc[df['CDGLOBAL'].isnull(), 'CDGLOBAL'] = df[df['CDGLOBAL'].isnull()]['AD_LABEL']"
   ]
  },
  {
   "cell_type": "code",
   "execution_count": 37,
   "id": "thousand-enough",
   "metadata": {},
   "outputs": [],
   "source": [
    "# rename column\n",
    "df = df.rename(columns={'CDGLOBAL': 'CDR'})"
   ]
  },
  {
   "cell_type": "markdown",
   "id": "distributed-conditions",
   "metadata": {},
   "source": [
    "### 5 - Mini-mental state exam (MMSE)\n",
    "\n",
    "Selected features:\n",
    "- Mini-mental state score"
   ]
  },
  {
   "cell_type": "code",
   "execution_count": 38,
   "id": "departmental-mount",
   "metadata": {},
   "outputs": [],
   "source": [
    "mmse = pd.read_csv('working/5_MMSE_edited.csv')"
   ]
  },
  {
   "cell_type": "code",
   "execution_count": 39,
   "id": "exempt-opportunity",
   "metadata": {},
   "outputs": [],
   "source": [
    "mmse = (mmse\n",
    "          .sort_values(by='EXAMDATE', ascending=False)\n",
    "          .drop_duplicates(subset=['RID'], keep='first')\n",
    "          .sort_values(by='RID')\n",
    "         )[['RID', 'MMSCORE']]"
   ]
  },
  {
   "cell_type": "code",
   "execution_count": 40,
   "id": "whole-sweden",
   "metadata": {},
   "outputs": [],
   "source": [
    "df = df.merge(right=mmse[['RID', 'MMSCORE']], how='left', on='RID')"
   ]
  },
  {
   "cell_type": "code",
   "execution_count": 41,
   "id": "intimate-player",
   "metadata": {},
   "outputs": [],
   "source": [
    "mmse = mmse.drop_duplicates(subset=['RID'])"
   ]
  },
  {
   "cell_type": "code",
   "execution_count": 42,
   "id": "loving-inclusion",
   "metadata": {},
   "outputs": [],
   "source": [
    "df = df.rename(columns={'MMSCORE': 'MMSE'})"
   ]
  },
  {
   "cell_type": "markdown",
   "id": "blind-shopping",
   "metadata": {},
   "source": [
    "### 6 - Modified Hachinski Ischemia Scale (MODHACH)\n",
    "\n",
    "Selected features:\n",
    "- Modified Hachinski Ischemia Scale score"
   ]
  },
  {
   "cell_type": "code",
   "execution_count": 43,
   "id": "artificial-oxford",
   "metadata": {},
   "outputs": [],
   "source": [
    "modhach = pd.read_csv('working/6_MODHACH.csv')"
   ]
  },
  {
   "cell_type": "code",
   "execution_count": 44,
   "id": "palestinian-profit",
   "metadata": {},
   "outputs": [],
   "source": [
    "modhach = (modhach\n",
    "           .sort_values(by='EXAMDATE', ascending=False)\n",
    "           .drop_duplicates(subset=['RID'], keep='first')\n",
    "           .sort_values(by='RID')\n",
    "          )[['RID', 'HMSCORE']]"
   ]
  },
  {
   "cell_type": "code",
   "execution_count": 45,
   "id": "detected-technical",
   "metadata": {},
   "outputs": [],
   "source": [
    "df = df.merge(right=modhach, how='left', on='RID')"
   ]
  },
  {
   "cell_type": "code",
   "execution_count": 46,
   "id": "lucky-stake",
   "metadata": {},
   "outputs": [],
   "source": [
    "df = df.rename(columns={'HMSCORE': 'MODHACH_SCORE'})"
   ]
  },
  {
   "cell_type": "markdown",
   "id": "indonesian-sheffield",
   "metadata": {},
   "source": [
    "### 7 - Neuropsychiatric inventory (NPI)\n",
    "\n",
    "Selected features:\n",
    "- Neuropsychiatric inventory total"
   ]
  },
  {
   "cell_type": "code",
   "execution_count": 47,
   "id": "vital-beverage",
   "metadata": {},
   "outputs": [],
   "source": [
    "npi = pd.read_csv('working/7_NPI.csv')"
   ]
  },
  {
   "cell_type": "code",
   "execution_count": 48,
   "id": "architectural-packaging",
   "metadata": {},
   "outputs": [],
   "source": [
    "npi = (npi\n",
    "       .sort_values(by='EXAMDATE', ascending=False)\n",
    "       .drop_duplicates(subset='RID', keep='first')\n",
    "       .sort_values(by='RID')\n",
    "      )[['RID', 'NPITOTAL']]"
   ]
  },
  {
   "cell_type": "code",
   "execution_count": 49,
   "id": "difficult-evans",
   "metadata": {},
   "outputs": [],
   "source": [
    "df = df.merge(right=npi, how='left', on='RID')"
   ]
  },
  {
   "cell_type": "code",
   "execution_count": 50,
   "id": "removed-possibility",
   "metadata": {},
   "outputs": [],
   "source": [
    "# fill remaining few values with median\n",
    "df['NPITOTAL'] = df['NPITOTAL'].fillna(df['NPITOTAL'].median())"
   ]
  },
  {
   "cell_type": "markdown",
   "id": "later-maria",
   "metadata": {},
   "source": [
    "### 8 - Neuropsychological Battery (NEUROBAT)\n",
    "\n",
    "\n",
    "Selected features:\n",
    "- Logical memory immediate recall total\n",
    "- Logical memory delayed recall total"
   ]
  },
  {
   "cell_type": "code",
   "execution_count": 51,
   "id": "announced-vietnam",
   "metadata": {},
   "outputs": [],
   "source": [
    "neurobat = pd.read_csv('working/8_NEUROBAT_edited.csv')"
   ]
  },
  {
   "cell_type": "code",
   "execution_count": 52,
   "id": "accompanied-technique",
   "metadata": {},
   "outputs": [],
   "source": [
    "neurobat = (neurobat\n",
    "       .sort_values(by='EXAMDATE', ascending=False)\n",
    "       .drop_duplicates(subset='RID', keep='first')\n",
    "       .sort_values(by='RID')\n",
    "      )[['RID', 'LIMMTOTAL', 'LDELTOTAL']]"
   ]
  },
  {
   "cell_type": "code",
   "execution_count": 53,
   "id": "maritime-identity",
   "metadata": {},
   "outputs": [],
   "source": [
    "neurobat = neurobat.rename(columns={\n",
    "    'LIMMTOTAL': 'LOG_MEM_IMM_TOTAL',\n",
    "    'LDELTOTAL': 'LOG_MEM_DEL_TOTAL'\n",
    "})"
   ]
  },
  {
   "cell_type": "code",
   "execution_count": 54,
   "id": "italian-english",
   "metadata": {},
   "outputs": [],
   "source": [
    "df = df.merge(right=neurobat, how='left', on='RID')"
   ]
  },
  {
   "cell_type": "code",
   "execution_count": 55,
   "id": "related-legend",
   "metadata": {},
   "outputs": [],
   "source": [
    "to_replace = df['LOG_MEM_DEL_TOTAL'].isnull()\n",
    "df.loc[to_replace, 'LOG_MEM_DEL_TOTAL'] = df[to_replace].apply(\n",
    "    lambda row: find_similar_row(row, df, column='LOG_MEM_DEL_TOTAL'),\n",
    "    axis=1\n",
    ")\n",
    "df['LOG_MEM_DEL_TOTAL'] = df['LOG_MEM_DEL_TOTAL'].fillna(df['LOG_MEM_DEL_TOTAL'].median())"
   ]
  },
  {
   "cell_type": "code",
   "execution_count": 56,
   "id": "muslim-ranking",
   "metadata": {},
   "outputs": [],
   "source": [
    "to_replace = df['LOG_MEM_IMM_TOTAL'].isnull()\n",
    "df.loc[to_replace, 'LOG_MEM_IMM_TOTAL'] = df[to_replace].apply(\n",
    "    lambda row: find_similar_row(row, df, column='LOG_MEM_IMM_TOTAL'),\n",
    "    axis=1\n",
    ")\n",
    "df['LOG_MEM_IMM_TOTAL'] = df['LOG_MEM_IMM_TOTAL'].fillna(df['LOG_MEM_IMM_TOTAL'].median())"
   ]
  },
  {
   "cell_type": "markdown",
   "id": "respective-cisco",
   "metadata": {},
   "source": [
    "### 9 - Neuropsych Summary Scores (NEUROPSYCH)\n",
    "\n",
    "Selected features:\n",
    "- Composite score for memory\n",
    "- Composite score for executive functioning"
   ]
  },
  {
   "cell_type": "code",
   "execution_count": 57,
   "id": "centered-malta",
   "metadata": {},
   "outputs": [],
   "source": [
    "neuropsych = pd.read_csv('working/9_UWNPSYCHSUM.csv')"
   ]
  },
  {
   "cell_type": "code",
   "execution_count": 58,
   "id": "outer-translation",
   "metadata": {},
   "outputs": [],
   "source": [
    "neuropsych = (neuropsych\n",
    "              .sort_values(by='EXAMDATE', ascending=False)\n",
    "              .drop_duplicates(subset='RID', keep='first')\n",
    "              .sort_values(by='RID')\n",
    "             )[['RID', 'ADNI_MEM', 'ADNI_EF']]"
   ]
  },
  {
   "cell_type": "code",
   "execution_count": 59,
   "id": "mysterious-korea",
   "metadata": {},
   "outputs": [],
   "source": [
    "df = df.merge(right=neuropsych, how='left', on='RID')"
   ]
  },
  {
   "cell_type": "code",
   "execution_count": 60,
   "id": "silver-supervisor",
   "metadata": {},
   "outputs": [],
   "source": [
    "# replace 8 missing executive function scores\n",
    "to_replace = df['ADNI_EF'].isnull()\n",
    "df.loc[to_replace, 'ADNI_EF'] = df[to_replace].apply(\n",
    "    lambda row: find_similar_row(row, df, column='ADNI_EF'),\n",
    "    axis=1\n",
    ")"
   ]
  },
  {
   "cell_type": "code",
   "execution_count": 61,
   "id": "sapphire-divide",
   "metadata": {},
   "outputs": [],
   "source": [
    "df = df.rename(columns={\n",
    "    'ADNI_MEM': 'COMP_MEM_SCORE', \n",
    "    'ADNI_EF': 'COMP_EXEC_FUNC_SCORE'\n",
    "})"
   ]
  },
  {
   "cell_type": "markdown",
   "id": "ideal-brush",
   "metadata": {},
   "source": [
    "### Family history\n",
    "\n",
    "Selected features:\n",
    "- Mother dimentia\n",
    "- Mother AD\n",
    "- Father dimentia\n",
    "- Father AD"
   ]
  },
  {
   "cell_type": "code",
   "execution_count": 62,
   "id": "simplified-organization",
   "metadata": {},
   "outputs": [],
   "source": [
    "fam_hist = pd.read_csv('working/11_FAMXHPAR.csv')"
   ]
  },
  {
   "cell_type": "code",
   "execution_count": 63,
   "id": "knowing-marking",
   "metadata": {},
   "outputs": [],
   "source": [
    "columns = ['RID', 'MOTHDEM', 'FATHDEM']\n",
    "fam_hist = (fam_hist\n",
    "              .sort_values(by='USERDATE2', ascending=False)\n",
    "              .drop_duplicates(subset='RID', keep='first')\n",
    "              .sort_values(by='RID')\n",
    "             )[['RID', 'MOTHDEM', 'FATHDEM']]"
   ]
  },
  {
   "cell_type": "code",
   "execution_count": 64,
   "id": "referenced-membrane",
   "metadata": {},
   "outputs": [],
   "source": [
    "df = df.merge(right=fam_hist, how='left', on='RID')"
   ]
  },
  {
   "cell_type": "code",
   "execution_count": 65,
   "id": "vertical-convergence",
   "metadata": {},
   "outputs": [],
   "source": [
    "fill_remaining = [c for c in df.columns if c != 'AD_LABEL']\n",
    "df[fill_remaining] = df[fill_remaining].fillna(0)\n",
    "df['AD_LABEL'] = df['AD_LABEL'].fillna(1.0)"
   ]
  },
  {
   "cell_type": "markdown",
   "id": "incident-delhi",
   "metadata": {},
   "source": [
    "### Export"
   ]
  },
  {
   "cell_type": "code",
   "execution_count": 66,
   "id": "generous-pepper",
   "metadata": {},
   "outputs": [],
   "source": [
    "df.to_csv('working/combined.csv', index=False)"
   ]
  }
 ],
 "metadata": {
  "kernelspec": {
   "display_name": "Python 3",
   "language": "python",
   "name": "python3"
  },
  "language_info": {
   "codemirror_mode": {
    "name": "ipython",
    "version": 3
   },
   "file_extension": ".py",
   "mimetype": "text/x-python",
   "name": "python",
   "nbconvert_exporter": "python",
   "pygments_lexer": "ipython3",
   "version": "3.6.12"
  }
 },
 "nbformat": 4,
 "nbformat_minor": 5
}

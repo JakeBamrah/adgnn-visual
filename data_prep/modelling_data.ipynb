{
 "cells": [
  {
   "cell_type": "markdown",
   "id": "speaking-cemetery",
   "metadata": {},
   "source": [
    "# Modelling data\n",
    "\n",
    "- Select features for training and testing model\n",
    "- Normalize values on a *per-column* basis* [0-1]\n",
    "\n",
    "*Do features need to be dimensionally reduced?*"
   ]
  },
  {
   "cell_type": "code",
   "execution_count": null,
   "id": "valid-psychiatry",
   "metadata": {},
   "outputs": [],
   "source": []
  }
 ],
 "metadata": {
  "kernelspec": {
   "display_name": "Python 3",
   "language": "python",
   "name": "python3"
  },
  "language_info": {
   "codemirror_mode": {
    "name": "ipython",
    "version": 3
   },
   "file_extension": ".py",
   "mimetype": "text/x-python",
   "name": "python",
   "nbconvert_exporter": "python",
   "pygments_lexer": "ipython3",
   "version": "3.6.12"
  }
 },
 "nbformat": 4,
 "nbformat_minor": 5
}
